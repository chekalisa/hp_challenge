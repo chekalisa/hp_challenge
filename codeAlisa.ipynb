{
 "cells": [
  {
   "cell_type": "code",
   "execution_count": null,
   "metadata": {
    "vscode": {
     "languageId": "plaintext"
    }
   },
   "outputs": [],
   "source": [
    "# Emissions summary by transport mode\n",
    "emissions_by_mode = df.groupby('Dominant Mot')['total_emissions'].sum()\n",
    "\n",
    "# Emissions summary by country\n",
    "emissions_by_country = df.groupby('OriginCountryCode')['total_emissions'].sum()\n",
    "\n",
    "print(emissions_by_mode)\n",
    "print(emissions_by_country)"
   ]
  },
  {
   "cell_type": "code",
   "execution_count": null,
   "metadata": {
    "vscode": {
     "languageId": "plaintext"
    }
   },
   "outputs": [],
   "source": [
    "import matplotlib.pyplot as plt\n",
    "import seaborn as sns\n",
    "\n",
    "# Emissions by mode of transport\n",
    "emissions_by_mode.plot(kind='bar')\n",
    "plt.title(\"Emissions by Mode of Transport\")\n",
    "plt.xlabel(\"Transport Mode\")\n",
    "plt.ylabel(\"Total Emissions\")\n",
    "plt.show()\n",
    "\n",
    "# Emissions by country\n",
    "emissions_by_country.plot(kind='bar', color='orange')\n",
    "plt.title(\"Emissions by Origin Country\")\n",
    "plt.xlabel(\"Country Code\")\n",
    "plt.ylabel(\"Total Emissions\")\n",
    "plt.show()"
   ]
  },
  {
   "cell_type": "code",
   "execution_count": null,
   "metadata": {
    "vscode": {
     "languageId": "plaintext"
    }
   },
   "outputs": [],
   "source": [
    "import seaborn as sns\n",
    "\n",
    "# Select relevant numerical columns\n",
    "correlation_data = df[['FreightWeight', 'Distances_km', 'co2_equivalent_t_wtw']]\n",
    "\n",
    "# Generate correlation matrix\n",
    "corr_matrix = correlation_data.corr()\n",
    "\n",
    "# Heatmap\n",
    "sns.heatmap(corr_matrix, annot=True, cmap='coolwarm')\n",
    "plt.title(\"Correlation Matrix\")\n",
    "plt.show()"
   ]
  },
  {
   "cell_type": "code",
   "execution_count": null,
   "metadata": {
    "vscode": {
     "languageId": "plaintext"
    }
   },
   "outputs": [],
   "source": [
    "# Group by RouteCode and calculate total emissions\n",
    "emissions_by_route = df.groupby('RouteCode')['total_emissions'].sum().sort_values(ascending=False)\n",
    "\n",
    "# Bar chart for top 10 routes\n",
    "emissions_by_route.head(10).plot(kind='bar', figsize=(10, 6), color='green')\n",
    "plt.title(\"Top 10 Routes by Emissions\")\n",
    "plt.xlabel(\"Route Code\")\n",
    "plt.ylabel(\"Total Emissions (tonnes CO2)\")\n",
    "plt.show()"
   ]
  },
  {
   "cell_type": "code",
   "execution_count": null,
   "metadata": {
    "vscode": {
     "languageId": "plaintext"
    }
   },
   "outputs": [],
   "source": [
    "# Boxplot of emissions intensity by transport mode\n",
    "sns.boxplot(data=df, x='Dominant Mot', y='co2e_p_tkm_grammepertonnekilometers_wtw')\n",
    "plt.title(\"Emissions Intensity by Transport Mode\")\n",
    "plt.xlabel(\"Transport Mode\")\n",
    "plt.ylabel(\"CO2 Intensity (g per tonne-km)\")\n",
    "plt.show()"
   ]
  },
  {
   "cell_type": "code",
   "execution_count": null,
   "metadata": {
    "vscode": {
     "languageId": "plaintext"
    }
   },
   "outputs": [],
   "source": [
    "# Sort emissions by OriginCountryCode\n",
    "emissions_sorted = emissions_by_country.sort_values(ascending=False)\n",
    "cumulative_emissions = emissions_sorted.cumsum() / emissions_sorted.sum()\n",
    "\n",
    "# Pareto chart\n",
    "plt.figure(figsize=(10, 6))\n",
    "emissions_sorted.plot(kind='bar', alpha=0.7, label=\"Emissions by Country\")\n",
    "cumulative_emissions.plot(color='red', secondary_y=True, label=\"Cumulative Percentage\")\n",
    "plt.title(\"Pareto Analysis of Emissions by Country\")\n",
    "plt.legend(loc='upper left')\n",
    "plt.show()"
   ]
  },
  {
   "cell_type": "code",
   "execution_count": null,
   "metadata": {
    "vscode": {
     "languageId": "plaintext"
    }
   },
   "outputs": [],
   "source": [
    "# Simulate emissions using alternative transport modes\n",
    "df['optimized_emissions'] = df['FreightWeight'] * df['Distances_km'] * 5.0  # Example for rail\n",
    "\n",
    "# Plot original vs optimized emissions\n",
    "df[['total_emissions', 'optimized_emissions']].sum().plot(kind='bar', color=['blue', 'green'])\n",
    "plt.title(\"Original vs Optimized Emissions\")\n",
    "plt.xticks([0, 1], ['Original', 'Optimized'])\n",
    "plt.ylabel(\"Total Emissions (tonnes CO2)\")\n",
    "plt.show()"
   ]
  },
  {
   "cell_type": "code",
   "execution_count": null,
   "metadata": {
    "vscode": {
     "languageId": "plaintext"
    }
   },
   "outputs": [],
   "source": [
    "# Example calculation for Well-to-Wheel (WTW) emissions\n",
    "emissions = (distance_km * freight_weight_tonnes) * emission_factor  # factor varies by transport mode\n",
    "print(f\"Total Emissions: {emissions} kg CO2e\")"
   ]
  },
  {
   "cell_type": "code",
   "execution_count": null,
   "metadata": {
    "vscode": {
     "languageId": "plaintext"
    }
   },
   "outputs": [],
   "source": [
    "import pandas as pd\n",
    "import matplotlib.pyplot as plt\n",
    "import networkx as nx\n",
    "\n",
    "# Création du DataFrame\n",
    "df = pd.DataFrame(data)\n",
    "\n",
    "# Conversion du poids en tonnes\n",
    "df['FreightWeight_tonnes'] = df['FreightWeight'] / 1000\n",
    "\n",
    "# Calcul des émissions WTW\n",
    "df['Emissions_WTW'] = df['Distances_km'] * df['FreightWeight_tonnes'] * df['co2e_p_tkm_wtw']\n",
    "\n",
    "# Regroupement des émissions par mode de transport\n",
    "grouped = df.groupby('LegMode')['Emissions_WTW'].sum()\n",
    "print(grouped)\n"
   ]
  },
  {
   "cell_type": "code",
   "execution_count": null,
   "metadata": {
    "vscode": {
     "languageId": "plaintext"
    }
   },
   "outputs": [],
   "source": [
    "\n",
    "# Regroupement des émissions par pays de destination\n",
    "emissions_by_country = df.groupby('DestinationCountryCode')['Emissions_WTW'].sum()\n",
    "\n",
    "# Visualisation des émissions par pays\n",
    "emissions_by_country.plot(kind='bar', title=\"Émissions de CO2 par pays\")\n",
    "plt.ylabel(\"Émissions (kg CO2)\")\n",
    "plt.show()\n"
   ]
  },
  {
   "cell_type": "code",
   "execution_count": null,
   "metadata": {
    "vscode": {
     "languageId": "plaintext"
    }
   },
   "outputs": [],
   "source": [
    "\n",
    "# Priorisation :\n",
    "# Concentrez-vous sur les pays/régions et les modes de transport ayant les émissions les plus élevées\n",
    "\n",
    "# Création d'un graphe des routes avec des poids correspondant aux émissions de CO2\n",
    "G = nx.Graph()\n",
    "G.add_edge(\"Origin\", \"Destination\", emissions=10)  # Exemple d'émissions\n",
    "optimal_path = nx.shortest_path(G, source=\"Origin\", target=\"Destination\", weight=\"emissions\")\n",
    "print(f\"Itinéraire le plus écologique : {optimal_path}\")"
   ]
  },
  {
   "cell_type": "code",
   "execution_count": null,
   "metadata": {
    "vscode": {
     "languageId": "plaintext"
    }
   },
   "outputs": [],
   "source": [
    "emissions_ttw = distance_km * freight_weight_tonnes * co2e_p_tkm_ttw\n",
    "emissions_wtw = distance_km * freight_weight_tonnes * co2e_p_tkm_wtw\n",
    "\n",
    "# Résultats\n",
    "print(f\"Emissions TTW : {emissions_ttw / 1000:.2f} kg CO2\")\n",
    "print(f\"Emissions WTW : {emissions_wtw / 1000:.2f} kg CO2\")"
   ]
  }
 ],
 "metadata": {
  "language_info": {
   "name": "python"
  }
 },
 "nbformat": 4,
 "nbformat_minor": 2
}
